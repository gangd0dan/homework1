{
  "nbformat": 4,
  "nbformat_minor": 0,
  "metadata": {
    "colab": {
      "provenance": []
    },
    "kernelspec": {
      "name": "python3",
      "display_name": "Python 3"
    },
    "language_info": {
      "name": "python"
    }
  },
  "cells": [
    {
      "cell_type": "code",
      "execution_count": 1,
      "metadata": {
        "colab": {
          "base_uri": "https://localhost:8080/"
        },
        "id": "VYD_ZtR9Aoz_",
        "outputId": "43f82d79-ae21-4b7a-d9fb-743e85f24aa7"
      },
      "outputs": [
        {
          "output_type": "stream",
          "name": "stdout",
          "text": [
            "1\n"
          ]
        }
      ],
      "source": [
        "from itertools import combinations\n",
        "import random\n",
        "\n",
        "repeat = int(input('반복 횟수 : '))\n",
        "nums = []\n",
        "\n",
        "while True:\n",
        "    if len(nums) == repeat:\n",
        "        break\n",
        "    a = random.randint(1,1000)\n",
        "    if a in nums:\n",
        "        continue\n",
        "    else:\n",
        "        nums.append(a)\n",
        "\n",
        "print(nums)\n",
        "\n",
        "def is_prime(num):\n",
        "    for i in range(2,num):\n",
        "        if num % i == 0:\n",
        "            return False\n",
        "    else:\n",
        "        return True\n",
        "\n",
        "def solutions(nums):\n",
        "\n",
        "    com = list(combinations(nums,3))\n",
        "    res = 0\n",
        "\n",
        "    for i in range(len(com)):\n",
        "        num = sum(list(com[i]))\n",
        "        if is_prime(num) == True:\n",
        "            res += 1\n",
        "        else:\n",
        "            continue\n",
        "\n",
        "    return res\n",
        "\n",
        "print(solutions(nums),'개의 소수가 나옵니다')"
      ]
    }
  ]
}